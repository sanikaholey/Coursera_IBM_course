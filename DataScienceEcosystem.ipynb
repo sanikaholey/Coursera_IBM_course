{
 "cells": [
  {
   "cell_type": "markdown",
   "id": "aa28e227-833c-4a3c-8a13-d93ef1219aac",
   "metadata": {},
   "source": [
    "# Data Science Tools and Ecosystem"
   ]
  },
  {
   "cell_type": "markdown",
   "id": "231fd70e-6e21-4879-a1cb-ae07cada500d",
   "metadata": {},
   "source": [
    "### In this notebook, Data Science Tools and Ecosystem are summarized."
   ]
  },
  {
   "cell_type": "markdown",
   "id": "a2c90875-acea-432a-b1f1-17108968cd2b",
   "metadata": {},
   "source": [
    "Some of the popular languages that Data Scientists use are:\r\n",
    "\r\n",
    "1. Python\r\n",
    "2. R\r\n",
    "3. SQL\r\n",
    "4. Julia\r\n"
   ]
  },
  {
   "cell_type": "markdown",
   "id": "d576b380-8ebf-4b37-bb75-c27d973eba11",
   "metadata": {},
   "source": [
    "Some of the commonly used libraries used by Data Scientists include:\r\n",
    "\r\n",
    "1. Pandas\r\n",
    "2. NumPy\r\n",
    "3. Scikit-learn\r\n",
    "4. TensorFlow\r\n"
   ]
  },
  {
   "cell_type": "markdown",
   "id": "0bdb74ac-a2d4-4388-bd4e-45fc613bdb60",
   "metadata": {},
   "source": [
    "| Data Science Tools |\n",
    "|--------------------|\n",
    "| Jupyter Notebook   |\n",
    "| RStudio            |\n",
    "| Apache Zeppelin    |\n"
   ]
  },
  {
   "cell_type": "markdown",
   "id": "12283641-6a5f-4ab8-aa9a-5faaeaa86e9a",
   "metadata": {},
   "source": [
    "### Below are a few examples of evaluating arithmetic expressions in Python\n"
   ]
  },
  {
   "cell_type": "code",
   "execution_count": 7,
   "id": "a25aa7d0-3eb2-41dc-b619-26695de0bc51",
   "metadata": {},
   "outputs": [
    {
     "data": {
      "text/plain": [
       "17"
      ]
     },
     "execution_count": 7,
     "metadata": {},
     "output_type": "execute_result"
    }
   ],
   "source": [
    "# This is a simple arithmetic expression to multiply then add integers\n",
    "result = (3 * 4) + 5\n",
    "result\n"
   ]
  },
  {
   "cell_type": "code",
   "execution_count": 9,
   "id": "6de17d29-abee-436c-b788-cec7118a7a84",
   "metadata": {},
   "outputs": [
    {
     "data": {
      "text/plain": [
       "3.3333333333333335"
      ]
     },
     "execution_count": 9,
     "metadata": {},
     "output_type": "execute_result"
    }
   ],
   "source": [
    "# This will convert 200 minutes to hours by dividing by 60\n",
    "hours = 200 / 60\n",
    "hours\n"
   ]
  },
  {
   "cell_type": "markdown",
   "id": "99ad9f3e-a2b0-4b85-b782-aa1c49fa22b2",
   "metadata": {},
   "source": [
    "**Objectives:**\n",
    "\n",
    "- List popular languages for Data Science\n",
    "- List commonly used libraries in Data Science\n",
    "- Introduce and evaluate basic arithmetic expressions in Python\n",
    "- Demonstrate how to convert units (e.g., minutes to hours) in Python\n"
   ]
  },
  {
   "cell_type": "markdown",
   "id": "086a1341-3eef-4ed7-b77f-2121b43aea4d",
   "metadata": {},
   "source": [
    "## Author\n",
    "Sanika Holey\n"
   ]
  },
  {
   "cell_type": "code",
   "execution_count": null,
   "id": "73aa4780-fe3f-4be4-b26a-39339fd287ef",
   "metadata": {},
   "outputs": [],
   "source": []
  }
 ],
 "metadata": {
  "kernelspec": {
   "display_name": "Python 3 (ipykernel)",
   "language": "python",
   "name": "python3"
  },
  "language_info": {
   "codemirror_mode": {
    "name": "ipython",
    "version": 3
   },
   "file_extension": ".py",
   "mimetype": "text/x-python",
   "name": "python",
   "nbconvert_exporter": "python",
   "pygments_lexer": "ipython3",
   "version": "3.12.4"
  }
 },
 "nbformat": 4,
 "nbformat_minor": 5
}
